{
  "nbformat": 4,
  "nbformat_minor": 0,
  "metadata": {
    "colab": {
      "name": "EstruturaSequencialPythonbr.ipynb",
      "provenance": [],
      "collapsed_sections": [],
      "authorship_tag": "ABX9TyOpFLylY5oLKtUrM+Y80PvX",
      "include_colab_link": true
    },
    "kernelspec": {
      "name": "python3",
      "display_name": "Python 3"
    },
    "language_info": {
      "name": "python"
    }
  },
  "cells": [
    {
      "cell_type": "markdown",
      "metadata": {
        "id": "view-in-github",
        "colab_type": "text"
      },
      "source": [
        "<a href=\"https://colab.research.google.com/github/LucSouza/desafiospythonbr/blob/main/EstruturaSequencialPythonbr.ipynb\" target=\"_parent\"><img src=\"https://colab.research.google.com/assets/colab-badge.svg\" alt=\"Open In Colab\"/></a>"
      ]
    },
    {
      "cell_type": "markdown",
      "metadata": {
        "id": "TJvQ6Ezkd1tK"
      },
      "source": [
        "Faça um Programa que mostre a mensagem \"Alo mundo\" na tela. "
      ]
    },
    {
      "cell_type": "code",
      "metadata": {
        "colab": {
          "base_uri": "https://localhost:8080/"
        },
        "id": "oiq2ltc9d8ig",
        "outputId": "23bf5f26-805e-450c-80db-83fa1e2ebca9"
      },
      "source": [
        "print(\"Alo Mundo\")"
      ],
      "execution_count": null,
      "outputs": [
        {
          "output_type": "stream",
          "text": [
            "Alo Mundo\n"
          ],
          "name": "stdout"
        }
      ]
    },
    {
      "cell_type": "markdown",
      "metadata": {
        "id": "0UcNhne1eBGM"
      },
      "source": [
        "Faça um Programa que peça um número e então mostre a mensagem O número informado foi [número]. "
      ]
    },
    {
      "cell_type": "code",
      "metadata": {
        "colab": {
          "base_uri": "https://localhost:8080/"
        },
        "id": "MCV9O1P5eBil",
        "outputId": "71b6fc61-594a-4873-8e2f-de214da4babf"
      },
      "source": [
        "num= input(\"Informe um numero\")\n",
        "print(f\"O numero informado foi {num}\")"
      ],
      "execution_count": null,
      "outputs": [
        {
          "output_type": "stream",
          "text": [
            "Informe um numero2342\n",
            "O numero informado foi 2342\n"
          ],
          "name": "stdout"
        }
      ]
    },
    {
      "cell_type": "markdown",
      "metadata": {
        "id": "H4jJ0s3MeTXX"
      },
      "source": [
        "Faça um Programa que peça dois números e imprima a soma."
      ]
    },
    {
      "cell_type": "code",
      "metadata": {
        "colab": {
          "base_uri": "https://localhost:8080/"
        },
        "id": "LRrLiHy6eT0M",
        "outputId": "d3efc456-0e35-4b75-9462-2be1dc3f8051"
      },
      "source": [
        "num1 = int(input(\"Informe o primeiro numero: \"))\n",
        "num2 = int(input(\"Informe o segundo numero: \"))\n",
        "sum = num1 + num2\n",
        "print(f\"A soma de {num1} e de {num2} é igual a {sum}\")"
      ],
      "execution_count": null,
      "outputs": [
        {
          "output_type": "stream",
          "text": [
            "Informe o primeiro numero: 5\n",
            "Informe o segundo numero: 7\n",
            "A soma de 5 e de 7 é igual a 12\n"
          ],
          "name": "stdout"
        }
      ]
    },
    {
      "cell_type": "markdown",
      "metadata": {
        "id": "bTABasZEfTrm"
      },
      "source": [
        "Faça um Programa que peça as 4 notas bimestrais e mostre a média. "
      ]
    },
    {
      "cell_type": "code",
      "metadata": {
        "colab": {
          "base_uri": "https://localhost:8080/"
        },
        "id": "_e5_w5cNfUdC",
        "outputId": "ed368636-4cf5-4811-d123-02a26e26c226"
      },
      "source": [
        "not1 =int(input(\"Informe a primeira nota: \"))\n",
        "not2 =int(input(\"Informe o segunda nota: \"))\n",
        "not3 =int(input(\"Informe o terceira nota: \"))\n",
        "not4 =int(input(\"Informe o quarta nota: \"))\n",
        "\n",
        "notf = (not1+not2+not3+not4)/4\n",
        "print(f\"Sua média é: {notf}\")\n"
      ],
      "execution_count": null,
      "outputs": [
        {
          "output_type": "stream",
          "text": [
            "Informe a primeira nota: 5\n",
            "Informe o segunda nota: 6\n",
            "Informe o terceira nota: 8\n",
            "Informe o quarta nota: 9\n",
            "Sua média é: 7.0\n"
          ],
          "name": "stdout"
        }
      ]
    },
    {
      "cell_type": "markdown",
      "metadata": {
        "id": "s8U3cEGTg1Nz"
      },
      "source": [
        "Faça um Programa que converta metros para centímetros. \n"
      ]
    },
    {
      "cell_type": "code",
      "metadata": {
        "colab": {
          "base_uri": "https://localhost:8080/"
        },
        "id": "Fyzqa749g1nJ",
        "outputId": "4c6f76d3-6965-4e82-8bc7-ff4192c3dde2"
      },
      "source": [
        "mt = int(input(\"Informe os metros a serem convertidos a centimetros: \"))\n",
        "\n",
        "cm= mt * 100\n",
        "\n",
        "print(f\"{mt}mt/s em centimetros é/são: {cm}cm/s\")"
      ],
      "execution_count": null,
      "outputs": [
        {
          "output_type": "stream",
          "text": [
            "Informe os metros a serem convertidos a centimetros: 3\n",
            "3mt/s em centimetros é/são: 300cm/s\n"
          ],
          "name": "stdout"
        }
      ]
    },
    {
      "cell_type": "markdown",
      "metadata": {
        "id": "uVND6-bRhfsI"
      },
      "source": [
        "Faça um Programa que peça o raio de um círculo, calcule e mostre sua área. "
      ]
    },
    {
      "cell_type": "code",
      "metadata": {
        "colab": {
          "base_uri": "https://localhost:8080/"
        },
        "id": "eSK0Zu5thhJF",
        "outputId": "24d0ed52-6796-4c63-f094-b8ce5ffed260"
      },
      "source": [
        "raio = int(input(\"Informe o raio do circulo para saber sua circunferencia: \"))\n",
        "\n",
        "pi = 3.14\n",
        "\n",
        "circ = float((raio*2) * pi)\n",
        "print(f\"A circunferencia do circulo com raio {raio} é de: {circ:.2f} cms\")"
      ],
      "execution_count": null,
      "outputs": [
        {
          "output_type": "stream",
          "text": [
            "Informe o raio do circulo para saber sua circunferencia: 5\n",
            "A circunferencia do circulo com raio 5 é de: 31.40 cms\n"
          ],
          "name": "stdout"
        }
      ]
    },
    {
      "cell_type": "code",
      "metadata": {
        "id": "3ApYxXhNlHG2"
      },
      "source": [
        ""
      ],
      "execution_count": null,
      "outputs": []
    },
    {
      "cell_type": "markdown",
      "metadata": {
        "id": "6J1w5zi8kdHe"
      },
      "source": [
        "Faça um Programa que calcule a área de um quadrado, em seguida mostre o dobro desta área para o usuário. \n"
      ]
    },
    {
      "cell_type": "code",
      "metadata": {
        "colab": {
          "base_uri": "https://localhost:8080/"
        },
        "id": "IrfHMYgfkdyB",
        "outputId": "06ee9d66-5ed0-4882-80ec-ad70146e39bc"
      },
      "source": [
        "lado = int(input(\"Informe o tamanho do lado: \"))\n",
        "area = lado ** 2\n",
        "dobro = area * 2\n",
        "print(f\"A area do quadrado de lado {lado} é: {area}, este é o drobro da area: {dobro} \")\n"
      ],
      "execution_count": null,
      "outputs": [
        {
          "output_type": "stream",
          "text": [
            "Informe o tamanho do lado: 5\n",
            "A area do quadrado de lado 5 é: 25, este é o drobro da area: 50 \n"
          ],
          "name": "stdout"
        }
      ]
    },
    {
      "cell_type": "markdown",
      "metadata": {
        "id": "WkUjqfWumGZG"
      },
      "source": [
        "Faça um Programa que pergunte quanto você ganha por hora e o número de horas trabalhadas no mês. Calcule e mostre o total do seu salário no referido mês. \n"
      ]
    },
    {
      "cell_type": "code",
      "metadata": {
        "colab": {
          "base_uri": "https://localhost:8080/"
        },
        "id": "9JxJVp6BmHau",
        "outputId": "0450c69e-f394-4d3a-b33d-6883b670091e"
      },
      "source": [
        "vHora = float(input(\"Qual o valor da sua hora trabalhada: \"))\n",
        "hmes = int(input(\"Quantas horas trabalhou este mes: \"))\n",
        "\n",
        "sal = float(vHora * hmes)\n",
        "\n",
        "print(f\"Voce trabalhou {hmes} horas e ganhou um total de : R${sal} reais\")\n"
      ],
      "execution_count": null,
      "outputs": [
        {
          "output_type": "stream",
          "text": [
            "Qual o valor da sua hora trabalhada: 6.25\n",
            "Quantas horas trabalhou este mes: 160\n",
            "Voce trabalhou 160 horas e ganhou um total de : R$1000.0 reais\n"
          ],
          "name": "stdout"
        }
      ]
    },
    {
      "cell_type": "markdown",
      "metadata": {
        "id": "l3tAFxyZm8yQ"
      },
      "source": [
        "Faça um Programa que peça a temperatura em graus Fahrenheit, transforme e mostre a temperatura em graus Celsius.\n",
        "\n",
        "    C = 5 * ((F-32) / 9). \n",
        "    "
      ]
    },
    {
      "cell_type": "code",
      "metadata": {
        "colab": {
          "base_uri": "https://localhost:8080/"
        },
        "id": "TJXmEkr8m9lA",
        "outputId": "522ab759-c4c1-4b47-a5f5-14196e2d067c"
      },
      "source": [
        "farh = int(input(\"Informe a temperatura em graus farhenheit: \"))\n",
        "\n",
        "cel =  5 * ((farh-32)/9)\n",
        "\n",
        "print(f\"{farh} graus farhenheit são {cel:.2f} graus celcius\")"
      ],
      "execution_count": null,
      "outputs": [
        {
          "output_type": "stream",
          "text": [
            "Informe a temperatura em graus farhenheit: 75\n",
            "75 graus farhenheit são 23.89 graus celcius\n"
          ],
          "name": "stdout"
        }
      ]
    },
    {
      "cell_type": "markdown",
      "metadata": {
        "id": "rtkCJaLQoIno"
      },
      "source": [
        "Faça um Programa que peça a temperatura em graus Celsius, transforme e mostre em graus Fahrenheit. \n"
      ]
    },
    {
      "cell_type": "code",
      "metadata": {
        "id": "s4LO1mBToJFJ"
      },
      "source": [
        "cel = float(input(\"Informe a temperatura em graus Celsius: \"))\n",
        "\n",
        "farh =  (cel*1.8)+32\n",
        "\n",
        "print(f\"{cel} graus Celsius são {farh:.2f} graus Farhenheit\")"
      ],
      "execution_count": null,
      "outputs": []
    },
    {
      "cell_type": "markdown",
      "metadata": {
        "id": "RWwm0fv6tJ96"
      },
      "source": [
        "Faça um Programa que peça 2 números inteiros e um número real. Calcule e mostre:\n",
        "\n",
        "    o produto do dobro do primeiro com metade do segundo .\n",
        "    a soma do triplo do primeiro com o terceiro.\n",
        "    o terceiro elevado ao cubo. \n",
        "    "
      ]
    },
    {
      "cell_type": "code",
      "metadata": {
        "colab": {
          "base_uri": "https://localhost:8080/"
        },
        "id": "Mwm8tEz8tNll",
        "outputId": "8653ac6c-e7c7-4f04-f530-880805009fc9"
      },
      "source": [
        "nInt1 = int(input(\"Informe um numero inteiro: \"))\n",
        "nInt2 = int(input(\"Informe outro inteiro: \"))\n",
        "nReal = float(input(\"Informe um numero real: \"))\n",
        "\n",
        "calc1 = float((nInt1*2) * (nInt2/2))\n",
        "calc2 = float((nInt1*3) + nReal)\n",
        "calc3 = float(nReal**3)\n",
        "print(f\"o produto do dobro de {nInt1} com metade de {nInt2}: {calc1}\")\n",
        "print(f\"a soma do triplo de {nInt1} com {nReal}: {calc2}\")\n",
        "print(f\"{nReal} elevado ao cubo: {calc3:.2f}\")\n",
        "\n"
      ],
      "execution_count": null,
      "outputs": [
        {
          "output_type": "stream",
          "text": [
            "Informe um numero inteiro: 2\n",
            "Informe outro inteiro: 4\n",
            "Informe um numero real: 0.7\n",
            "o produto do dobro de 2 com metade de 4: 8.0\n",
            "a soma do triplo de 2 com 0.7: 6.7\n",
            "0.7 elevado ao cubo: 0.34\n"
          ],
          "name": "stdout"
        }
      ]
    },
    {
      "cell_type": "markdown",
      "metadata": {
        "id": "pquk4KNVvspx"
      },
      "source": [
        "Tendo como dados de entrada a altura de uma pessoa, construa um algoritmo que calcule seu peso ideal, usando a seguinte fórmula: (72.7*altura) - 58 \n"
      ]
    },
    {
      "cell_type": "code",
      "metadata": {
        "colab": {
          "base_uri": "https://localhost:8080/"
        },
        "id": "jfzq9WISvtXT",
        "outputId": "efb3312b-f561-4dad-a217-3f35c6db52b4"
      },
      "source": [
        "print(\"Em base a sua altura calculamos seu peso ideal\")\n",
        "alt = float(input(\"Informe sua altura: \"))\n",
        "\n",
        "pesoIdeal = float((72.7 * alt) - 58)\n",
        "\n",
        "print(f\"Basado na sua altura '{alt}', seu peso ideal é: {pesoIdeal:.2f}\")"
      ],
      "execution_count": null,
      "outputs": [
        {
          "output_type": "stream",
          "text": [
            "Em base a sua altura calculamos seu peso ideal\n",
            "Informe sua altura: 1.87\n",
            "Basado na sua altura '1.87', seu peso ideal é: 77.95\n"
          ],
          "name": "stdout"
        }
      ]
    },
    {
      "cell_type": "markdown",
      "metadata": {
        "id": "W1XtsbULyIeo"
      },
      "source": [
        "Tendo como dado de entrada a altura (h) de uma pessoa, construa um algoritmo que calcule seu peso ideal, utilizando as seguintes fórmulas:\n",
        "\n",
        "    Para homens: (72.7*h) - 58\n",
        "    Para mulheres: (62.1*h) - 44.7 \n",
        "    "
      ]
    },
    {
      "cell_type": "code",
      "metadata": {
        "id": "mpFCd0sQyJde"
      },
      "source": [
        ""
      ],
      "execution_count": null,
      "outputs": []
    },
    {
      "cell_type": "code",
      "metadata": {
        "colab": {
          "base_uri": "https://localhost:8080/"
        },
        "id": "IPcx8FFCyOA2",
        "outputId": "04278db0-f28d-4c1b-e07c-c9c6392e794f"
      },
      "source": [
        "print(\"Em base a sua altura calculamos seu peso ideal\")\n",
        "alt = float(input(\"Informe sua altura: \"))\n",
        "sexo = int(input(\"Informe 1 se for homem ou 2 se for mulher:\"))\n",
        "\n",
        "if sexo == 1:\n",
        "  pesoIdeal = float((72.7 * alt) - 58)\n",
        "else:\n",
        "  pesoIdeal = float((62.1 * alt) - 44.7)\n",
        "\n",
        "\n",
        "print(f\"Basado na sua altura '{alt}', seu peso ideal é: {pesoIdeal:.2f}'\")\n",
        "##print(f\"\"\"Basado na sua altura '{alt}', seu peso ideal é\n",
        "##Homem: {pesoIdealHomen:.2f}\n",
        "##//Mulher: {pesoIdealMulher:.2f}\"\"\")"
      ],
      "execution_count": null,
      "outputs": [
        {
          "output_type": "stream",
          "text": [
            "Em base a sua altura calculamos seu peso ideal\n",
            "Informe sua altura: 1.87\n",
            "Informe 1 se for homem ou 2 se for mulher:1\n",
            "Basado na sua altura '1.87', seu peso ideal é: 77.95'\n"
          ],
          "name": "stdout"
        }
      ]
    },
    {
      "cell_type": "markdown",
      "metadata": {
        "id": "FmlyRjMo0W14"
      },
      "source": [
        "João Papo-de-Pescador, homem de bem, comprou um microcomputador para controlar o rendimento diário de seu trabalho. Toda vez que ele traz um peso de peixes maior que o estabelecido pelo regulamento de pesca do estado de São Paulo (50 quilos) deve pagar uma multa de R$ 4,00 por quilo excedente. João precisa que você faça um programa que leia a variável peso (peso de peixes) e calcule o excesso. Gravar na variável excesso a quantidade de quilos além do limite e na variável multa o valor da multa que João deverá pagar. Imprima os dados do programa com as mensagens adequadas. "
      ]
    },
    {
      "cell_type": "code",
      "metadata": {
        "colab": {
          "base_uri": "https://localhost:8080/"
        },
        "id": "lAfzevRD0a99",
        "outputId": "18ff750f-a9fc-469b-ee66-e145c7e4c34b"
      },
      "source": [
        "print(\"Calculo de multa por excesso de peso\")\n",
        "peso = float(input(\"Informe o peso de peixes: \"))\n",
        "\n",
        "vMulta = float(4)\n",
        "limite = 50\n",
        "\n",
        "if peso > limite:\n",
        "  excesso = peso - limite\n",
        "  multa = excesso * vMulta\n",
        "  print(f\"O excesso foi de : {excesso}kg, gerando uma multa de: R$ {multa:.2f}\")\n",
        "else:\n",
        "  print(f\"{peso} não supera o limite de 50 kg diarios\")\n"
      ],
      "execution_count": null,
      "outputs": [
        {
          "output_type": "stream",
          "text": [
            "Calculo de multa por excesso de peso\n",
            "Informe o peso de peixes: 43\n",
            "43.0 não supera o limite de 50 kg diarios\n"
          ],
          "name": "stdout"
        }
      ]
    },
    {
      "cell_type": "markdown",
      "metadata": {
        "id": "NXhDxnth4kPG"
      },
      "source": [
        "Faça um Programa que pergunte quanto você ganha por hora e o número de horas trabalhadas no mês. Calcule e mostre o total do seu salário no referido mês, sabendo-se que são descontados 11% para o Imposto de Renda, 8% para o INSS e 5% para o sindicato, faça um programa que nos dê:\n",
        "\n",
        "    salário bruto.\n",
        "    quanto pagou ao INSS.\n",
        "    quanto pagou ao sindicato.\n",
        "    o salário líquido.\n",
        "    calcule os descontos e o salário líquido, conforme a tabela abaixo:\n",
        "\n",
        "    + Salário Bruto : R$\n",
        "    - IR (11%) : R$\n",
        "    - INSS (8%) : R$\n",
        "    - Sindicato ( 5%) : R$\n",
        "    = Salário Liquido : R$\n",
        "\n",
        "    Obs.: Salário Bruto - Descontos = Salário Líquido. "
      ]
    },
    {
      "cell_type": "code",
      "metadata": {
        "colab": {
          "base_uri": "https://localhost:8080/"
        },
        "id": "7k7sMHoI4lCg",
        "outputId": "0bac8368-6b7b-4c0b-fc38-2ea770bb8af8"
      },
      "source": [
        "valorHora = float(input(\"Informe quanto você ganha por hora: \"))\n",
        "horas = float(input(\"Informe as horas trabalhadas no mes: \"))\n",
        "\n",
        "salBruto = valorHora * horas\n",
        "ir = salBruto * 0.11\n",
        "inss = salBruto * 0.08\n",
        "sindicato = salBruto * 0.05\n",
        "\n",
        "salLiquido = salBruto - ir - inss - sindicato\n",
        "\n",
        "print(f\"\"\"\n",
        "+ Salário Bruto : R$ {salBruto}\n",
        "- IR (11%) : R$ {ir}\n",
        "- INSS (8%) : R$ {inss}\n",
        "- Sindicato (5%) : R$ {sindicato}\n",
        "= Salário Liquido : R$ {salLiquido}\n",
        "\"\"\")"
      ],
      "execution_count": null,
      "outputs": [
        {
          "output_type": "stream",
          "text": [
            "Informe quanto você ganha por hora: 15\n",
            "Informe as horas trabalhadas no mes: 160\n",
            "\n",
            "+ Salário Bruto : R$ 2400.0\n",
            "- IR (11%) : R$ 264.0\n",
            "- INSS (8%) : R$ 192.0\n",
            "- Sindicato ( 5%) : R$ 120.0\n",
            "= Salário Liquido : R$ 1824.0\n",
            "\n"
          ],
          "name": "stdout"
        }
      ]
    },
    {
      "cell_type": "markdown",
      "metadata": {
        "id": "tCOjkfJDKlOp"
      },
      "source": [
        "Faça um programa para uma loja de tintas. O programa deverá pedir o tamanho em metros quadrados da área a ser pintada. Considere que a cobertura da tinta é de 1 litro para cada 3 metros quadrados e que a tinta é vendida em latas de 18 litros, que custam R$ 80,00. Informe ao usuário a quantidades de latas de tinta a serem compradas e o preço total. "
      ]
    },
    {
      "cell_type": "code",
      "metadata": {
        "colab": {
          "base_uri": "https://localhost:8080/"
        },
        "id": "F09pjGf4KqBx",
        "outputId": "b463e789-5f51-4d91-8cb8-37f0a8eb3080"
      },
      "source": [
        "areaPintar = float(input(\"Qual o tamanho da area a ser pintada em mts quadrados?: \"))\n",
        "\n",
        "cobertura = areaPintar / 3\n",
        "umaLata = 18\n",
        "latas = 1\n",
        "precoLata = 80\n",
        "while cobertura > umaLata:\n",
        "  latas = latas +1\n",
        "  cobertura = cobertura - umaLata\n",
        "\n",
        "print(f\"Você precisara {latas} lata/s de tinta para cobrir a area de {areaPintar}mts quadrados, o custo total será de {latas * precoLata}\")\n",
        "  \n"
      ],
      "execution_count": 11,
      "outputs": [
        {
          "output_type": "stream",
          "text": [
            "Qual o tamanho da area a ser pintada em mts quadrados?: 45\n",
            "Você precisara 1 lata/s de tinta para cobrir a area de 45.0mts quadrados, o custo total será de 80\n"
          ],
          "name": "stdout"
        }
      ]
    },
    {
      "cell_type": "markdown",
      "metadata": {
        "id": "ZFXS2JhiPWWC"
      },
      "source": [
        "Faça um Programa para uma loja de tintas. O programa deverá pedir o tamanho em metros quadrados da área a ser pintada. Considere que a cobertura da tinta é de 1 litro para cada 6 metros quadrados e que a tinta é vendida em latas de 18 litros, que custam R$ 80,00 ou em galões de 3,6 litros, que custam R$ 25,00.\n",
        "\n",
        "    Informe ao usuário as quantidades de tinta a serem compradas e os respectivos preços em 3 situações:\n",
        "    comprar apenas latas de 18 litros;\n",
        "    comprar apenas galões de 3,6 litros;\n",
        "    misturar latas e galões, de forma que o desperdício de tinta seja menor. Acrescente 10% de folga e sempre arredonde os valores para cima, isto é, considere latas cheias. "
      ]
    },
    {
      "cell_type": "code",
      "metadata": {
        "id": "4SMfBDDrPYtJ"
      },
      "source": [
        "areaPintar = float(input(\"Qual o tamanho da area a ser pintada em mts quadrados?: \"))\n",
        "\n",
        "cobertura = areaPintar / 6\n",
        "umaLata = 18\n",
        "latas = 1\n",
        "umGalao = 3.6\n",
        "precoLata = 80\n",
        "precoGalao = 25\n",
        "while cobertura > umaLata:\n",
        "  latas = latas +1\n",
        "  cobertura = cobertura - umaLata\n",
        "\n",
        "print(f\"Você precisara {latas} lata/s de tinta para cobrir a area de {areaPintar}mts quadrados, o custo total será de {latas * precoLata}\")\n",
        "  "
      ],
      "execution_count": null,
      "outputs": []
    }
  ]
}